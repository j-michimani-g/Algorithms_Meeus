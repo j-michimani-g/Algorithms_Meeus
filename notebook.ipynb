{
 "cells": [
  {
   "cell_type": "code",
   "execution_count": 2,
   "id": "c52d5b85",
   "metadata": {},
   "outputs": [],
   "source": [
    "import math\n",
    "import numpy as np\n",
    "\n",
    "###### PI value\n",
    "DPI = 3.141592653589793"
   ]
  },
  {
   "cell_type": "markdown",
   "id": "89f8d9be",
   "metadata": {},
   "source": [
    "### Right ascension \n",
    "Right ascension are generally expressed in hours, minutes and seconds of time. If the trigonometric function of a right ascension must be calculated, it is necessary to convert that value to degrees (and then to radians if necessary). Remember that one hour corresponds to 15 degrees.\n",
    "\n",
    "Example 1.a - Calculate tan(α), where α = $9^{h}14^{m}55^{s}.8$ \n"
   ]
  },
  {
   "cell_type": "code",
   "execution_count": 21,
   "id": "7d0700d0",
   "metadata": {},
   "outputs": [],
   "source": [
    "def parse_ra_string(ra_string):\n",
    "    \"\"\"\n",
    "    Parse right ascension string into component values.\n",
    "    \n",
    "    Takes a right ascension string in format \"HH MM SS.SS\" and extracts\n",
    "    the hours, minutes, and seconds as separate float values.\n",
    "    \n",
    "    Args:\n",
    "        ra_string (str): Right ascension in format \"HH MM SS.SS\"\n",
    "                        (e.g., \"14 23 45.67\")\n",
    "    \n",
    "    Returns:\n",
    "        tuple: A tuple of three floats (hours, minutes, seconds)\n",
    "               e.g., (14.0, 23.0, 45.67)\n",
    "    \n",
    "    Example:\n",
    "        >>> parse_ra_string(\"14 23 45.67\")\n",
    "        (14.0, 23.0, 45.67)\n",
    "    \"\"\"\n",
    "\n",
    "    try:\n",
    "        parts = ra_string.strip().split()\n",
    "        if len(parts) != 3:\n",
    "            raise ValueError(\"RA string must be in the format 'HH MM SS.SS'\")\n",
    "        \n",
    "        ra_hours = float(parts[0])\n",
    "        ra_minutes = float(parts[1])\n",
    "        ra_seconds = float(parts[2])\n",
    "        \n",
    "        return (ra_hours, ra_minutes, ra_seconds)\n",
    "    \n",
    "    except ValueError as e:\n",
    "        print(f\"Error parsing RA string: {e}\")\n",
    "        return None\n",
    "    \n",
    "\n",
    "def convert_ra_components(hours, minutes, seconds):\n",
    "    \"\"\"\n",
    "    Convert right ascension components to decimal, degrees, and radians.\n",
    "    \n",
    "    Takes individual hours, minutes, and seconds components of right ascension\n",
    "    and converts them to decimal hours, decimal degrees, and radians.\n",
    "    \n",
    "    Args:\n",
    "        hours (float): Hours component of right ascension\n",
    "        minutes (float): Minutes component of right ascension  \n",
    "        seconds (float): Seconds component of right ascension\n",
    "    \n",
    "    Returns:\n",
    "        tuple: A tuple of three floats:\n",
    "               - decimal_hours (float): RA in decimal hours\n",
    "               - degrees (float): RA in decimal degrees\n",
    "               - radians (float): RA in radians\n",
    "    \n",
    "    Example:\n",
    "        >>> convert_ra_components(14.0, 23.0, 45.67)\n",
    "        14.396019444444445, 215.9402916666667, 3.768...\n",
    "    \n",
    "    Note:\n",
    "        Right ascension ranges from 0-24 hours, 0-360 degrees, or 0-2π radians.\n",
    "    \"\"\"\n",
    "    ra_decimal_hours = hours + minutes/60 + seconds/3600 \n",
    "    degrees = ra_decimal_hours * 15\n",
    "    radians = degrees * (DPI/180)    \n",
    "\n",
    "    return (ra_decimal_hours, degrees, radians)"
   ]
  },
  {
   "cell_type": "code",
   "execution_count": 18,
   "id": "1a3ebec4",
   "metadata": {},
   "outputs": [],
   "source": [
    "ra_string = \"09 14 55.8\"\n",
    "ra_hours, ra_minutes, ra_seconds = parse_ra_string(ra_string)"
   ]
  },
  {
   "cell_type": "code",
   "execution_count": 19,
   "id": "f04bbc09",
   "metadata": {},
   "outputs": [
    {
     "data": {
      "text/plain": [
       "2.421338904523033"
      ]
     },
     "execution_count": 19,
     "metadata": {},
     "output_type": "execute_result"
    }
   ],
   "source": [
    "ra_decimal_hours, ra_decimal_degrees, ra_radians = convert_ra_components(ra_hours, ra_minutes, ra_seconds)\n",
    "ra_radians"
   ]
  },
  {
   "cell_type": "code",
   "execution_count": 8,
   "id": "cd46f5a4",
   "metadata": {},
   "outputs": [
    {
     "name": "stdout",
     "output_type": "stream",
     "text": [
      "9.248833333333332 138.7325 2.421338904523033\n"
     ]
    }
   ],
   "source": [
    "\n",
    "ra_string = \"09 14 55.8\"\n",
    "\n",
    "ra_hours, ra_minutes, ra_seconds = parse_ra_string(ra_string)\n",
    "\n",
    "ra_decimal_hours, ra_decimal_degrees, ra_radians = convert_ra_components(ra_hours, ra_minutes, ra_seconds)\n",
    "\n",
    "print(ra_decimal_hours, ra_decimal_degrees, ra_radians)"
   ]
  },
  {
   "cell_type": "code",
   "execution_count": 20,
   "id": "038f2f25",
   "metadata": {},
   "outputs": [
    {
     "name": "stdout",
     "output_type": "stream",
     "text": [
      "tan(α) = -0.877517\n"
     ]
    }
   ],
   "source": [
    "tan_ra = math.tan(ra_radians)\n",
    "\n",
    "print(f'tan(\\u03B1) = {tan_ra:.6f}')  "
   ]
  },
  {
   "cell_type": "code",
   "execution_count": null,
   "id": "fd620a2f",
   "metadata": {},
   "outputs": [
    {
     "name": "stdout",
     "output_type": "stream",
     "text": [
      "tan(α) = -0.877517\n"
     ]
    }
   ],
   "source": [
    "def parse_ra(ra_string):\n",
    "    \"\"\"\n",
    "    Parses a right ascension string in the format 'HH MM SS.SS'\n",
    "    and returns hours, minutes, and seconds as floats.\n",
    "    \"\"\"\n",
    "    try:\n",
    "        parts = ra_string.strip().split()\n",
    "        if len(parts) != 3:\n",
    "            raise ValueError(\"RA string must be in the format 'HH MM SS.SS'\")\n",
    "        \n",
    "        ra_hours = float(parts[0])\n",
    "        ra_minutes = float(parts[1])\n",
    "        ra_seconds = float(parts[2])\n",
    "        \n",
    "        return ra_hours, ra_minutes, ra_seconds\n",
    "    \n",
    "    except ValueError as e:\n",
    "        print(f\"Error parsing RA string: {e}\")\n",
    "        return None\n",
    "    \n",
    "ra_str = \"09 14 55.8\"\n",
    "\n",
    "ra_hours, ra_minutes, ra_seconds = parse_ra(ra_str)\n",
    "\n",
    "ra_hours_decimals = ra_hours + ra_minutes/60 + ra_seconds/3600 \n",
    "ra_degrees = ra_hours_decimals * 15\n",
    "ra_radians = ra_degrees * (DPI/180)    \n",
    "tan_ra = math.tan(ra_radians)\n",
    "\n",
    "print(f'tan(\\u03B1) = {tan_ra:.6f}')  "
   ]
  },
  {
   "cell_type": "code",
   "execution_count": null,
   "id": "c6bc0a75",
   "metadata": {},
   "outputs": [],
   "source": []
  },
  {
   "cell_type": "markdown",
   "id": "301b03b1",
   "metadata": {},
   "source": [
    "Table 3.2\n",
    "|  |  |  |\n",
    "| :------- | :------: | -------: |\n",
    "| November  | 7  | $y_{1}$ = 0.884226  |\n",
    "|   | 8  | $y_{2}$ = 0.877366  |\n",
    "|   | 9  | $y_{3}$ = 0.870531  |\n",
    "\n",
    "\n",
    "Let $n$ be the interpolating factor. That is, if the value $y$ of the function is required for the value of $x$ of the argument, we have $x - x_{2}$ in units of the tabular interval. The value $n$ is positive if $x > x_{2}$, that is for a value 'later' than $x_{2}$, or from $x_{2}$ towards the bottom of the table. If $x$ precedes $x_{2}$, then $n < 0$. \n",
    "\n",
    "If $y_{2}$ has been correctly chosen, then $n$ will be between -0.5 and +0.5, although the following formulae will also give correct results for all values of $n$ between -1 and +1.\n",
    "\n",
    "The interpolation formula is\n",
    "\n",
    "$\n",
    " y = y_{2} + \\frac{n}{2} (a + b + nc)\n",
    "$\n",
    "\n",
    "\n",
    "Example 3.a - From the table 3.2, calculate the distance of Mars to the Earth on 1992 November 8, at  $4^{h}21^{m}$ TD. \n",
    " "
   ]
  },
  {
   "cell_type": "code",
   "execution_count": 3,
   "id": "80bc910c",
   "metadata": {},
   "outputs": [
    {
     "name": "stdout",
     "output_type": "stream",
     "text": [
      "-0.006859999999999977\n",
      "-0.0068349999999999245\n",
      "2.5000000000052758e-05\n"
     ]
    },
    {
     "data": {
      "text/plain": [
       "0.8761253012695313"
      ]
     },
     "execution_count": 3,
     "metadata": {},
     "output_type": "execute_result"
    }
   ],
   "source": [
    "y1 = 0.884226\n",
    "y2 = 0.877366\n",
    "y3 = 0.870531\n",
    "\n",
    "a = y2 - y1 \n",
    "b = y3 - y2\n",
    "\n",
    "c = b - a \n",
    "\n",
    "\n",
    "print(a)\n",
    "print(b)\n",
    "print(c)\n",
    "\n",
    "n = (4 + 21/60)/24\n",
    "\n",
    "y = y2 + (n/2) * (a + b + n*c) \n",
    "y"
   ]
  },
  {
   "cell_type": "markdown",
   "id": "f83d350e",
   "metadata": {},
   "source": [
    "Example 9.a - New Moon took place on 1977 February 18 at $3^{h}37^{m}40^{s}$ Dynamical time (see Exaple 47.a). \n",
    "At that instant, $\\Delta T$ was equal to +48 seconds. Consequently, the corresponding Universal Time of that lunar phase was:"
   ]
  },
  {
   "cell_type": "code",
   "execution_count": 13,
   "id": "a89713eb",
   "metadata": {},
   "outputs": [
    {
     "name": "stdout",
     "output_type": "stream",
     "text": [
      "3 36 52\n"
     ]
    }
   ],
   "source": [
    "def parse_time_string(time_string):\n",
    "    \"\"\"\n",
    "    Parses a time string in the format 'HH MM SS.SS'\n",
    "    and returns hours, minutes, and seconds as floats.\n",
    "    \"\"\"\n",
    "    try:\n",
    "        parts = time_string.strip().split()\n",
    "        if len(parts) != 3:\n",
    "            raise ValueError(\"time string must be in the format 'HH MM SS.SS'\")\n",
    "        \n",
    "        time_hours = float(parts[0])\n",
    "        time_minutes = float(parts[1])\n",
    "        time_seconds = float(parts[2])\n",
    "        \n",
    "        return time_hours, time_minutes, time_seconds\n",
    "    \n",
    "    except ValueError as e:\n",
    "        print(f\"Error parsing time string: {e}\")\n",
    "        return None\n",
    "    \n",
    "\n",
    "time_hours, time_minutes, time_seconds = parse_time_string(\"3 37 40.00\")\n",
    "\n",
    "\n",
    "def convert_time_to_decimal(hours, minutes, seconds):\n",
    "    \"\"\"\n",
    "    Convert time components to decimal hours.\n",
    "    \n",
    "    Takes individual hours, minutes, and seconds components of time\n",
    "    and converts them to decimal hours format.\n",
    "    \n",
    "    Args:\n",
    "        hours (float): Hours component of time\n",
    "        minutes (float): Minutes component of time\n",
    "        seconds (float): Seconds component of time\n",
    "    \n",
    "    Returns:\n",
    "        float: Time expressed in decimal hours\n",
    "               e.g., 3 hours 37 minutes 40 seconds = 3.627777... hours\n",
    "    \n",
    "    Example:\n",
    "        >>> convert_time_to_decimal(3.0, 37.0, 40.0)\n",
    "        3.6277777777777778\n",
    "    \n",
    "    Formula:\n",
    "        decimal_hours = hours + (minutes/60) + (seconds/3600)\n",
    "    \"\"\"\n",
    "    decimal_hours = hours + (minutes / 60.0) + (seconds / 3600.0)\n",
    "    \n",
    "    return decimal_hours\n",
    "\n",
    "#time_decimal = time_hours + time_minutes/60 + time_seconds/3600 \n",
    "\n",
    "\n",
    "time_decimal = convert_time_to_decimal(time_hours, time_minutes, time_seconds)\n",
    "\n",
    "#print(time_decimal)\n",
    "\n",
    "# print(time_hours, time_minutes, time_seconds)\n",
    "# print(time_decimal)\n",
    "\n",
    "Delta_time = 48/3600\n",
    "\n",
    "universal_time = time_decimal - Delta_time\n",
    "\n",
    "ut_hours = int(universal_time)\n",
    "ut_minutes = (universal_time - ut_hours) * 60 \n",
    "ut_seconds = int((ut_minutes - int(ut_minutes)) * 60)\n",
    "\n",
    "print(ut_hours,int(ut_minutes),ut_seconds)"
   ]
  },
  {
   "cell_type": "code",
   "execution_count": 14,
   "id": "0dbe42bd",
   "metadata": {},
   "outputs": [
    {
     "name": "stdout",
     "output_type": "stream",
     "text": [
      "03 36 52.00\n"
     ]
    }
   ],
   "source": [
    "def decimal_to_time_string(decimal_hours):\n",
    "    \"\"\"\n",
    "    Convert decimal hours to time string format.\n",
    "    \n",
    "    Takes a decimal hours value and converts it back to the standard\n",
    "    time string format \"HH MM SS.SS\".\n",
    "    \n",
    "    Args:\n",
    "        decimal_hours (float): Time expressed in decimal hours\n",
    "                              e.g., 3.6277777777777778\n",
    "    \n",
    "    Returns:\n",
    "        str: Time string in format \"HH MM SS.SS\"\n",
    "             e.g., \"03 37 40.00\"\n",
    "    \n",
    "    Example:\n",
    "        >>> decimal_to_time_string(3.6277777777777778)\n",
    "        \"03 37 40.00\"\n",
    "    \n",
    "    Note:\n",
    "        Hours are zero-padded to 2 digits, seconds are formatted to 2 decimal places.\n",
    "    \"\"\"\n",
    "    hours = int(decimal_hours)\n",
    "    remaining_minutes = (decimal_hours - hours) * 60\n",
    "    minutes = int(remaining_minutes)\n",
    "    seconds = (remaining_minutes - minutes) * 60\n",
    "    \n",
    "    return f\"{hours:02d} {minutes:02d} {seconds:05.2f}\"\n",
    "\n",
    "\n",
    "time_string = decimal_to_time_string(universal_time)\n",
    "print(time_string)"
   ]
  },
  {
   "cell_type": "code",
   "execution_count": 28,
   "id": "5f6c27a7",
   "metadata": {},
   "outputs": [
    {
     "data": {
      "text/plain": [
       "'3ʰ36ᵐ52ˢ'"
      ]
     },
     "execution_count": 28,
     "metadata": {},
     "output_type": "execute_result"
    }
   ],
   "source": [
    "import string\n",
    "\n",
    "superscript_map = {\n",
    "    \"0\": \"⁰\", \"1\": \"¹\", \"2\": \"²\", \"3\": \"³\", \"4\": \"⁴\", \"5\": \"⁵\", \"6\": \"⁶\",\n",
    "    \"7\": \"⁷\", \"8\": \"⁸\", \"9\": \"⁹\", \"a\": \"ᵃ\", \"b\": \"ᵇ\", \"c\": \"ᶜ\", \"d\": \"ᵈ\",\n",
    "    \"e\": \"ᵉ\", \"f\": \"ᶠ\", \"g\": \"ᵍ\", \"h\": \"ʰ\", \"i\": \"ᶦ\", \"j\": \"ʲ\", \"k\": \"ᵏ\",\n",
    "    \"l\": \"ˡ\", \"m\": \"ᵐ\", \"n\": \"ⁿ\", \"o\": \"ᵒ\", \"p\": \"ᵖ\", \"q\": \"۹\", \"r\": \"ʳ\",\n",
    "    \"s\": \"ˢ\", \"t\": \"ᵗ\", \"u\": \"ᵘ\", \"v\": \"ᵛ\", \"w\": \"ʷ\", \"x\": \"ˣ\", \"y\": \"ʸ\",\n",
    "    \"z\": \"ᶻ\", \"A\": \"ᴬ\", \"B\": \"ᴮ\", \"C\": \"ᶜ\", \"D\": \"ᴰ\", \"E\": \"ᴱ\", \"F\": \"ᶠ\",\n",
    "    \"G\": \"ᴳ\", \"H\": \"ᴴ\", \"I\": \"ᴵ\", \"J\": \"ᴶ\", \"K\": \"ᴷ\", \"L\": \"ᴸ\", \"M\": \"ᴹ\",\n",
    "    \"N\": \"ᴺ\", \"O\": \"ᴼ\", \"P\": \"ᴾ\", \"Q\": \"Q\", \"R\": \"ᴿ\", \"S\": \"ˢ\", \"T\": \"ᵀ\",\n",
    "    \"U\": \"ᵁ\", \"V\": \"ⱽ\", \"W\": \"ᵂ\", \"X\": \"ˣ\", \"Y\": \"ʸ\", \"Z\": \"ᶻ\", \"+\": \"⁺\",\n",
    "    \"-\": \"⁻\", \"=\": \"⁼\", \"(\": \"⁽\", \")\": \"⁾\"}\n",
    "\n",
    "trans = str.maketrans(\n",
    "    ''.join(superscript_map.keys()),\n",
    "    ''.join(superscript_map.values()))\n",
    "\n",
    "str(ut_hours) + 'h'.translate(trans) + str(int(ut_minutes)) + 'm'.translate(trans) + str(ut_seconds) + 's'.translate(trans)\n"
   ]
  },
  {
   "cell_type": "code",
   "execution_count": 24,
   "id": "b8adf124",
   "metadata": {},
   "outputs": [
    {
     "name": "stdout",
     "output_type": "stream",
     "text": [
      "tan(α) = -0.877516945\n"
     ]
    }
   ],
   "source": [
    "from sympy import pi, sin, tan\n",
    "\n",
    "# >>> sin(pi/2)\n",
    "# 1\n",
    "\n",
    "# >>> sin(pi/4)\n",
    "# sqrt(2)/2\n",
    "\n",
    "# >>> sin(pi/4).evalf()\n",
    "# 0.707106781186548\n",
    "\n",
    "\n",
    "\n",
    "print(f'tan(\\u03B1) = {tan(ra_radians).evalf():.9f}')"
   ]
  },
  {
   "cell_type": "code",
   "execution_count": null,
   "id": "5daea3c2",
   "metadata": {},
   "outputs": [],
   "source": []
  },
  {
   "cell_type": "markdown",
   "id": "61739951",
   "metadata": {},
   "source": [
    "Example 10.a Calculate the p sin theta and p cos theta for the Palomar observatory, for which \n",
    "theta = +33"
   ]
  },
  {
   "cell_type": "code",
   "execution_count": null,
   "id": "e03b40bb",
   "metadata": {},
   "outputs": [],
   "source": []
  }
 ],
 "metadata": {
  "kernelspec": {
   "display_name": "base",
   "language": "python",
   "name": "python3"
  },
  "language_info": {
   "codemirror_mode": {
    "name": "ipython",
    "version": 3
   },
   "file_extension": ".py",
   "mimetype": "text/x-python",
   "name": "python",
   "nbconvert_exporter": "python",
   "pygments_lexer": "ipython3",
   "version": "3.12.3"
  }
 },
 "nbformat": 4,
 "nbformat_minor": 5
}
