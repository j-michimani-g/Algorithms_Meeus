{
 "cells": [
  {
   "cell_type": "code",
   "execution_count": 1,
   "id": "c52d5b85",
   "metadata": {},
   "outputs": [],
   "source": [
    "import math\n",
    "import numpy as np\n",
    "import pandas as pd\n",
    "\n",
    "###### PI value\n",
    "DPI = 3.141592653589793"
   ]
  },
  {
   "cell_type": "markdown",
   "id": "89f8d9be",
   "metadata": {},
   "source": [
    "### Right ascension \n",
    "Right ascension are generally expressed in hours, minutes and seconds of time. If the trigonometric function of a right ascension must be calculated, it is necessary to convert that value to degrees (and then to radians if necessary). Remember that one hour corresponds to 15 degrees.\n",
    "\n",
    "Example 1.a - Calculate tan(α), where α = $9^{h}14^{m}55^{s}.8$ \n"
   ]
  },
  {
   "cell_type": "code",
   "execution_count": 2,
   "id": "7d0700d0",
   "metadata": {},
   "outputs": [],
   "source": [
    "def parse_ra_string(ra_string):\n",
    "    \"\"\"\n",
    "    Parse right ascension string into component values.\n",
    "    \n",
    "    Takes a right ascension string in format \"HH MM SS.SS\" and extracts\n",
    "    the hours, minutes, and seconds as separate float values.\n",
    "    \n",
    "    Args:\n",
    "        ra_string (str): Right ascension in format \"HH MM SS.SS\"\n",
    "                        (e.g., \"14 23 45.67\")\n",
    "    \n",
    "    Returns:\n",
    "        tuple: A tuple of three floats (hours, minutes, seconds)\n",
    "               e.g., (14.0, 23.0, 45.67)\n",
    "    \n",
    "    Example:\n",
    "        >>> parse_ra_string(\"14 23 45.67\")\n",
    "        (14.0, 23.0, 45.67)\n",
    "    \"\"\"\n",
    "\n",
    "    try:\n",
    "        parts = ra_string.strip().split()\n",
    "        if len(parts) != 3:\n",
    "            raise ValueError(\"RA string must be in the format 'HH MM SS.SS'\")\n",
    "        \n",
    "        ra_hours = float(parts[0])\n",
    "        ra_minutes = float(parts[1])\n",
    "        ra_seconds = float(parts[2])\n",
    "        \n",
    "        return (ra_hours, ra_minutes, ra_seconds)\n",
    "    \n",
    "    except ValueError as e:\n",
    "        print(f\"Error parsing RA string: {e}\")\n",
    "        return None\n",
    "    \n",
    "\n",
    "def convert_ra_components(hours, minutes, seconds):\n",
    "    \"\"\"\n",
    "    Convert right ascension components to decimal, degrees, and radians.\n",
    "    \n",
    "    Takes individual hours, minutes, and seconds components of right ascension\n",
    "    and converts them to decimal hours, decimal degrees, and radians.\n",
    "    \n",
    "    Args:\n",
    "        hours (float): Hours component of right ascension\n",
    "        minutes (float): Minutes component of right ascension  \n",
    "        seconds (float): Seconds component of right ascension\n",
    "    \n",
    "    Returns:\n",
    "        tuple: A tuple of three floats:\n",
    "               - decimal_hours (float): RA in decimal hours\n",
    "               - degrees (float): RA in decimal degrees\n",
    "               - radians (float): RA in radians\n",
    "    \n",
    "    Example:\n",
    "        >>> convert_ra_components(14.0, 23.0, 45.67)\n",
    "        14.396019444444445, 215.9402916666667, 3.768...\n",
    "    \n",
    "    Note:\n",
    "        Right ascension ranges from 0-24 hours, 0-360 degrees, or 0-2π radians.\n",
    "    \"\"\"\n",
    "    ra_decimal_hours = hours + minutes/60 + seconds/3600 \n",
    "    degrees = ra_decimal_hours * 15\n",
    "    radians = degrees * (DPI/180)    \n",
    "\n",
    "    return (ra_decimal_hours, degrees, radians)"
   ]
  },
  {
   "cell_type": "code",
   "execution_count": 3,
   "id": "1a3ebec4",
   "metadata": {},
   "outputs": [],
   "source": [
    "ra_string = \"09 14 55.8\"\n",
    "ra_hours, ra_minutes, ra_seconds = parse_ra_string(ra_string)"
   ]
  },
  {
   "cell_type": "code",
   "execution_count": 4,
   "id": "f04bbc09",
   "metadata": {},
   "outputs": [
    {
     "data": {
      "text/plain": [
       "2.421338904523033"
      ]
     },
     "execution_count": 4,
     "metadata": {},
     "output_type": "execute_result"
    }
   ],
   "source": [
    "ra_decimal_hours, ra_decimal_degrees, ra_radians = convert_ra_components(ra_hours, ra_minutes, ra_seconds)\n",
    "ra_radians"
   ]
  },
  {
   "cell_type": "code",
   "execution_count": null,
   "id": "cd46f5a4",
   "metadata": {},
   "outputs": [
    {
     "name": "stdout",
     "output_type": "stream",
     "text": [
      "9.248833333333332 138.7325 2.421338904523033\n"
     ]
    }
   ],
   "source": [
    "\n",
    "ra_string = \"09 14 55.8\"\n",
    "\n",
    "ra_hours, ra_minutes, ra_seconds = parse_ra_string(ra_string)\n",
    "\n",
    "ra_decimal_hours, ra_decimal_degrees, ra_radians = convert_ra_components(ra_hours, ra_minutes, ra_seconds)\n",
    "\n",
    "print(ra_decimal_hours, ra_decimal_degrees, ra_radians)"
   ]
  },
  {
   "cell_type": "code",
   "execution_count": null,
   "id": "038f2f25",
   "metadata": {},
   "outputs": [
    {
     "name": "stdout",
     "output_type": "stream",
     "text": [
      "tan(α) = -0.877517\n"
     ]
    }
   ],
   "source": [
    "tan_ra = math.tan(ra_radians)\n",
    "\n",
    "print(f'tan(\\u03B1) = {tan_ra:.6f}')  "
   ]
  },
  {
   "cell_type": "code",
   "execution_count": null,
   "id": "fd620a2f",
   "metadata": {},
   "outputs": [
    {
     "name": "stdout",
     "output_type": "stream",
     "text": [
      "tan(α) = -0.877517\n"
     ]
    }
   ],
   "source": [
    "def parse_ra(ra_string):\n",
    "    \"\"\"\n",
    "    Parses a right ascension string in the format 'HH MM SS.SS'\n",
    "    and returns hours, minutes, and seconds as floats.\n",
    "    \"\"\"\n",
    "    try:\n",
    "        parts = ra_string.strip().split()\n",
    "        if len(parts) != 3:\n",
    "            raise ValueError(\"RA string must be in the format 'HH MM SS.SS'\")\n",
    "        \n",
    "        ra_hours = float(parts[0])\n",
    "        ra_minutes = float(parts[1])\n",
    "        ra_seconds = float(parts[2])\n",
    "        \n",
    "        return ra_hours, ra_minutes, ra_seconds\n",
    "    \n",
    "    except ValueError as e:\n",
    "        print(f\"Error parsing RA string: {e}\")\n",
    "        return None\n",
    "    \n",
    "ra_str = \"09 14 55.8\"\n",
    "\n",
    "ra_hours, ra_minutes, ra_seconds = parse_ra(ra_str)\n",
    "\n",
    "ra_hours_decimals = ra_hours + ra_minutes/60 + ra_seconds/3600 \n",
    "ra_degrees = ra_hours_decimals * 15\n",
    "ra_radians = ra_degrees * (DPI/180)    \n",
    "tan_ra = math.tan(ra_radians)\n",
    "\n",
    "print(f'tan(\\u03B1) = {tan_ra:.6f}')  "
   ]
  },
  {
   "cell_type": "code",
   "execution_count": null,
   "id": "c6bc0a75",
   "metadata": {},
   "outputs": [],
   "source": []
  },
  {
   "cell_type": "markdown",
   "id": "301b03b1",
   "metadata": {},
   "source": [
    "Table 3.2\n",
    "|  |  |  |\n",
    "| :------- | :------: | -------: |\n",
    "| November  | 7  | $y_{1}$ = 0.884226  |\n",
    "|   | 8  | $y_{2}$ = 0.877366  |\n",
    "|   | 9  | $y_{3}$ = 0.870531  |\n",
    "\n",
    "\n",
    "Let $n$ be the interpolating factor. That is, if the value $y$ of the function is required for the value of $x$ of the argument, we have $x - x_{2}$ in units of the tabular interval. The value $n$ is positive if $x > x_{2}$, that is for a value 'later' than $x_{2}$, or from $x_{2}$ towards the bottom of the table. If $x$ precedes $x_{2}$, then $n < 0$. \n",
    "\n",
    "If $y_{2}$ has been correctly chosen, then $n$ will be between -0.5 and +0.5, although the following formulae will also give correct results for all values of $n$ between -1 and +1.\n",
    "\n",
    "The interpolation formula is\n",
    "\n",
    "$\n",
    " y = y_{2} + \\frac{n}{2} (a + b + nc)\n",
    "$\n",
    "\n",
    "\n",
    "Example 3.a - From the table 3.2, calculate the distance of Mars to the Earth on 1992 November 8, at  $4^{h}21^{m}$ TD. \n",
    " "
   ]
  },
  {
   "cell_type": "code",
   "execution_count": null,
   "id": "80bc910c",
   "metadata": {},
   "outputs": [
    {
     "name": "stdout",
     "output_type": "stream",
     "text": [
      "-0.006859999999999977\n",
      "-0.0068349999999999245\n",
      "2.5000000000052758e-05\n"
     ]
    },
    {
     "data": {
      "text/plain": [
       "0.8761253012695313"
      ]
     },
     "execution_count": 3,
     "metadata": {},
     "output_type": "execute_result"
    }
   ],
   "source": [
    "y1 = 0.884226\n",
    "y2 = 0.877366\n",
    "y3 = 0.870531\n",
    "\n",
    "a = y2 - y1 \n",
    "b = y3 - y2\n",
    "\n",
    "c = b - a \n",
    "\n",
    "\n",
    "print(a)\n",
    "print(b)\n",
    "print(c)\n",
    "\n",
    "n = (4 + 21/60)/24\n",
    "\n",
    "y = y2 + (n/2) * (a + b + n*c) \n",
    "y"
   ]
  },
  {
   "cell_type": "markdown",
   "id": "f83d350e",
   "metadata": {},
   "source": [
    "Example 9.a - New Moon took place on 1977 February 18 at $3^{h}37^{m}40^{s}$ Dynamical time (see Exaple 47.a). \n",
    "At that instant, $\\Delta T$ was equal to +48 seconds. Consequently, the corresponding Universal Time of that lunar phase was:"
   ]
  },
  {
   "cell_type": "code",
   "execution_count": null,
   "id": "a89713eb",
   "metadata": {},
   "outputs": [
    {
     "name": "stdout",
     "output_type": "stream",
     "text": [
      "3 36 52\n"
     ]
    }
   ],
   "source": [
    "def parse_time_string(time_string):\n",
    "    \"\"\"\n",
    "    Parses a time string in the format 'HH MM SS.SS'\n",
    "    and returns hours, minutes, and seconds as floats.\n",
    "    \"\"\"\n",
    "    try:\n",
    "        parts = time_string.strip().split()\n",
    "        if len(parts) != 3:\n",
    "            raise ValueError(\"time string must be in the format 'HH MM SS.SS'\")\n",
    "        \n",
    "        time_hours = float(parts[0])\n",
    "        time_minutes = float(parts[1])\n",
    "        time_seconds = float(parts[2])\n",
    "        \n",
    "        return time_hours, time_minutes, time_seconds\n",
    "    \n",
    "    except ValueError as e:\n",
    "        print(f\"Error parsing time string: {e}\")\n",
    "        return None\n",
    "    \n",
    "\n",
    "time_hours, time_minutes, time_seconds = parse_time_string(\"3 37 40.00\")\n",
    "\n",
    "\n",
    "def convert_time_to_decimal(hours, minutes, seconds):\n",
    "    \"\"\"\n",
    "    Convert time components to decimal hours.\n",
    "    \n",
    "    Takes individual hours, minutes, and seconds components of time\n",
    "    and converts them to decimal hours format.\n",
    "    \n",
    "    Args:\n",
    "        hours (float): Hours component of time\n",
    "        minutes (float): Minutes component of time\n",
    "        seconds (float): Seconds component of time\n",
    "    \n",
    "    Returns:\n",
    "        float: Time expressed in decimal hours\n",
    "               e.g., 3 hours 37 minutes 40 seconds = 3.627777... hours\n",
    "    \n",
    "    Example:\n",
    "        >>> convert_time_to_decimal(3.0, 37.0, 40.0)\n",
    "        3.6277777777777778\n",
    "    \n",
    "    Formula:\n",
    "        decimal_hours = hours + (minutes/60) + (seconds/3600)\n",
    "    \"\"\"\n",
    "    decimal_hours = hours + (minutes / 60.0) + (seconds / 3600.0)\n",
    "    \n",
    "    return decimal_hours\n",
    "\n",
    "#time_decimal = time_hours + time_minutes/60 + time_seconds/3600 \n",
    "\n",
    "\n",
    "time_decimal = convert_time_to_decimal(time_hours, time_minutes, time_seconds)\n",
    "\n",
    "#print(time_decimal)\n",
    "\n",
    "# print(time_hours, time_minutes, time_seconds)\n",
    "# print(time_decimal)\n",
    "\n",
    "Delta_time = 48/3600\n",
    "\n",
    "universal_time = time_decimal - Delta_time\n",
    "\n",
    "ut_hours = int(universal_time)\n",
    "ut_minutes = (universal_time - ut_hours) * 60 \n",
    "ut_seconds = int((ut_minutes - int(ut_minutes)) * 60)\n",
    "\n",
    "print(ut_hours,int(ut_minutes),ut_seconds)"
   ]
  },
  {
   "cell_type": "code",
   "execution_count": null,
   "id": "0dbe42bd",
   "metadata": {},
   "outputs": [
    {
     "name": "stdout",
     "output_type": "stream",
     "text": [
      "03 36 52.00\n"
     ]
    }
   ],
   "source": [
    "def decimal_to_time_string(decimal_hours):\n",
    "    \"\"\"\n",
    "    Convert decimal hours to time string format.\n",
    "    \n",
    "    Takes a decimal hours value and converts it back to the standard\n",
    "    time string format \"HH MM SS.SS\".\n",
    "    \n",
    "    Args:\n",
    "        decimal_hours (float): Time expressed in decimal hours\n",
    "                              e.g., 3.6277777777777778\n",
    "    \n",
    "    Returns:\n",
    "        str: Time string in format \"HH MM SS.SS\"\n",
    "             e.g., \"03 37 40.00\"\n",
    "    \n",
    "    Example:\n",
    "        >>> decimal_to_time_string(3.6277777777777778)\n",
    "        \"03 37 40.00\"\n",
    "    \n",
    "    Note:\n",
    "        Hours are zero-padded to 2 digits, seconds are formatted to 2 decimal places.\n",
    "    \"\"\"\n",
    "    hours = int(decimal_hours)\n",
    "    remaining_minutes = (decimal_hours - hours) * 60\n",
    "    minutes = int(remaining_minutes)\n",
    "    seconds = (remaining_minutes - minutes) * 60\n",
    "    \n",
    "    return f\"{hours:02d} {minutes:02d} {seconds:05.2f}\"\n",
    "\n",
    "\n",
    "time_string = decimal_to_time_string(universal_time)\n",
    "print(time_string)"
   ]
  },
  {
   "cell_type": "code",
   "execution_count": null,
   "id": "5f6c27a7",
   "metadata": {},
   "outputs": [
    {
     "data": {
      "text/plain": [
       "'3ʰ36ᵐ52ˢ'"
      ]
     },
     "execution_count": 28,
     "metadata": {},
     "output_type": "execute_result"
    }
   ],
   "source": [
    "import string\n",
    "\n",
    "superscript_map = {\n",
    "    \"0\": \"⁰\", \"1\": \"¹\", \"2\": \"²\", \"3\": \"³\", \"4\": \"⁴\", \"5\": \"⁵\", \"6\": \"⁶\",\n",
    "    \"7\": \"⁷\", \"8\": \"⁸\", \"9\": \"⁹\", \"a\": \"ᵃ\", \"b\": \"ᵇ\", \"c\": \"ᶜ\", \"d\": \"ᵈ\",\n",
    "    \"e\": \"ᵉ\", \"f\": \"ᶠ\", \"g\": \"ᵍ\", \"h\": \"ʰ\", \"i\": \"ᶦ\", \"j\": \"ʲ\", \"k\": \"ᵏ\",\n",
    "    \"l\": \"ˡ\", \"m\": \"ᵐ\", \"n\": \"ⁿ\", \"o\": \"ᵒ\", \"p\": \"ᵖ\", \"q\": \"۹\", \"r\": \"ʳ\",\n",
    "    \"s\": \"ˢ\", \"t\": \"ᵗ\", \"u\": \"ᵘ\", \"v\": \"ᵛ\", \"w\": \"ʷ\", \"x\": \"ˣ\", \"y\": \"ʸ\",\n",
    "    \"z\": \"ᶻ\", \"A\": \"ᴬ\", \"B\": \"ᴮ\", \"C\": \"ᶜ\", \"D\": \"ᴰ\", \"E\": \"ᴱ\", \"F\": \"ᶠ\",\n",
    "    \"G\": \"ᴳ\", \"H\": \"ᴴ\", \"I\": \"ᴵ\", \"J\": \"ᴶ\", \"K\": \"ᴷ\", \"L\": \"ᴸ\", \"M\": \"ᴹ\",\n",
    "    \"N\": \"ᴺ\", \"O\": \"ᴼ\", \"P\": \"ᴾ\", \"Q\": \"Q\", \"R\": \"ᴿ\", \"S\": \"ˢ\", \"T\": \"ᵀ\",\n",
    "    \"U\": \"ᵁ\", \"V\": \"ⱽ\", \"W\": \"ᵂ\", \"X\": \"ˣ\", \"Y\": \"ʸ\", \"Z\": \"ᶻ\", \"+\": \"⁺\",\n",
    "    \"-\": \"⁻\", \"=\": \"⁼\", \"(\": \"⁽\", \")\": \"⁾\"}\n",
    "\n",
    "trans = str.maketrans(\n",
    "    ''.join(superscript_map.keys()),\n",
    "    ''.join(superscript_map.values()))\n",
    "\n",
    "str(ut_hours) + 'h'.translate(trans) + str(int(ut_minutes)) + 'm'.translate(trans) + str(ut_seconds) + 's'.translate(trans)\n"
   ]
  },
  {
   "cell_type": "code",
   "execution_count": null,
   "id": "b8adf124",
   "metadata": {},
   "outputs": [
    {
     "name": "stdout",
     "output_type": "stream",
     "text": [
      "tan(α) = -0.877516945\n"
     ]
    }
   ],
   "source": [
    "from sympy import pi, sin, tan\n",
    "\n",
    "# >>> sin(pi/2)\n",
    "# 1\n",
    "\n",
    "# >>> sin(pi/4)\n",
    "# sqrt(2)/2\n",
    "\n",
    "# >>> sin(pi/4).evalf()\n",
    "# 0.707106781186548\n",
    "\n",
    "\n",
    "\n",
    "print(f'tan(\\u03B1) = {tan(ra_radians).evalf():.9f}')"
   ]
  },
  {
   "cell_type": "code",
   "execution_count": null,
   "id": "5daea3c2",
   "metadata": {},
   "outputs": [],
   "source": []
  },
  {
   "cell_type": "markdown",
   "id": "61739951",
   "metadata": {},
   "source": [
    "Example 10.a Calculate the p sin theta and p cos theta for the Palomar observatory, for which \n",
    "theta = +33"
   ]
  },
  {
   "cell_type": "code",
   "execution_count": null,
   "id": "e03b40bb",
   "metadata": {},
   "outputs": [],
   "source": []
  },
  {
   "cell_type": "code",
   "execution_count": null,
   "id": "1d80e593",
   "metadata": {},
   "outputs": [],
   "source": [
    "table_15_14 = [['Julian',4716,1401,2,12,4,1461,0,3,5,153,2,2],\n",
    "               ['Gregorian',4716,1401,2,12,4,1461,0,3,5,153,2,2,184,274277,-38]]\n",
    "df_calendar = pd.DataFrame(table_15_14,columns=['Calendar','y','j','m','n','r','p','q','v','u','s','t','w','A','B','C'])\n",
    "df_calendar.set_index('Calendar',inplace=True)"
   ]
  },
  {
   "cell_type": "code",
   "execution_count": null,
   "id": "35b3e1f4",
   "metadata": {},
   "outputs": [],
   "source": [
    "### YYYY-MM-DD 1582 October 15\n",
    "Y = 2000\n",
    "M = 1\n",
    "D = 1\n"
   ]
  },
  {
   "cell_type": "code",
   "execution_count": null,
   "id": "b2015e4e",
   "metadata": {},
   "outputs": [
    {
     "data": {
      "text/plain": [
       "2451558"
      ]
     },
     "execution_count": 98,
     "metadata": {},
     "output_type": "execute_result"
    }
   ],
   "source": [
    "Y = 2000\n",
    "M = 1\n",
    "D = 1\n",
    "\n",
    "if M <= 2:\n",
    "    Y_adj = Y - 1\n",
    "    M_adj = M + 12\n",
    "else:\n",
    "    Y_adj = Y\n",
    "    M_adj = M\n",
    "\n",
    "# 1. h = M − m\n",
    "h = M - df_calendar.m.Julian\n",
    "# 2. g = Y + y − (n − h)/n\n",
    "g = Y + df_calendar.y.Julian - int((df_calendar.n.Julian - h)/df_calendar.n.Julian)\n",
    "# 3. f = mod(h − 1 + n, n)\n",
    "f = (h - 1 + df_calendar.n.Julian) % df_calendar.n.Julian\n",
    "# 4. e = (p ∗ g + q)/r + D − 1 − j\n",
    "e = int((df_calendar.p.Julian * g + df_calendar.q.Julian)/df_calendar.r.Julian) + D - 1 - df_calendar.j.Julian\n",
    "# 5. J = e + (s ∗ f + t)/u\n",
    "J = e + int((df_calendar.s.Julian * f + df_calendar.t.Julian)/df_calendar.u.Julian)\n",
    "\n",
    "J"
   ]
  },
  {
   "cell_type": "code",
   "execution_count": null,
   "id": "b51bcdd3",
   "metadata": {},
   "outputs": [
    {
     "name": "stdout",
     "output_type": "stream",
     "text": [
      "Converting Gregorian date: 10/15/1582\n",
      "\n",
      "Adjusted Y=1582, M=10, D=15\n",
      "h = 10 - 2.0 = 8.0\n",
      "g = 1582 + 1401.0 + (12.0 - 8.0) // 12.0 = 2983.0\n",
      "f = (8.0 - 1 + 12.0) % 12.0 = 7.0\n",
      "e = (1461.0 * 2983.0 + 0.0) // 4.0 + 15 - 1 - 1401.0 = 1088153.0\n",
      "J = 1088153.0 + (153.0 * 7.0 + 2.0) // 5.0 = 1088367.0\n"
     ]
    },
    {
     "data": {
      "text/plain": [
       "1088367.0"
      ]
     },
     "execution_count": 87,
     "metadata": {},
     "output_type": "execute_result"
    }
   ],
   "source": [
    "# Test date: October 15, 1582 (Gregorian)\n",
    "Y = 1582  # Year\n",
    "M = 10    # Month (October)\n",
    "D = 15    # Day\n",
    "\n",
    "print(f\"Converting Gregorian date: {M}/{D}/{Y}\")\n",
    "print()\n",
    "\n",
    "# Standard Julian Day Number algorithm for Gregorian calendar\n",
    "def julian_day_number_standard(year, month, day):\n",
    "    \"\"\"Standard Julian Day Number calculation\"\"\"\n",
    "    if month <= 2:\n",
    "        year -= 1\n",
    "        month += 12\n",
    "    \n",
    "    # Gregorian calendar correction\n",
    "    A = year // 100\n",
    "    B = 2 - A + (A // 4)\n",
    "    \n",
    "    jdn = int(365.25 * (year + 4716)) + int(30.6001 * (month + 1)) + day + B - 1524\n",
    "    return jdn\n",
    "\n",
    "# Your algorithm approach (corrected)\n",
    "def julian_day_your_algorithm(Y, M, D, calendar_type='Gregorian'):\n",
    "    \"\"\"Your algorithm approach but corrected\"\"\"\n",
    "    cal = df_calendar.loc[calendar_type]\n",
    "    \n",
    "    # Step 1: Adjust year and month if month <= 2\n",
    "    if M <= 2:\n",
    "        Y_adj = Y - 1\n",
    "        M_adj = M + 12\n",
    "    else:\n",
    "        Y_adj = Y\n",
    "        M_adj = M\n",
    "    \n",
    "    print(f\"Adjusted Y={Y_adj}, M={M_adj}, D={D}\")\n",
    "    \n",
    "    # Step 2: Calculate components\n",
    "    h = M_adj - cal['m']  # m=12 for Gregorian\n",
    "    print(f\"h = {M_adj} - {cal['m']} = {h}\")\n",
    "    \n",
    "    g = Y_adj + cal['j'] + (cal['n'] - h) / cal['n']  # Using integer division\n",
    "    print(f\"g = {Y_adj} + {cal['j']} + ({cal['n']} - {h}) // {cal['n']} = {g}\")\n",
    "    \n",
    "    f = (h - 1 + cal['n']) % cal['n']\n",
    "    print(f\"f = ({h} - 1 + {cal['n']}) % {cal['n']} = {f}\")\n",
    "    \n",
    "    e = (cal['p'] * g + cal['q']) // cal['r'] + D - 1 - cal['j']\n",
    "    print(f\"e = ({cal['p']} * {g} + {cal['q']}) // {cal['r']} + {D} - 1 - {cal['j']} = {e}\")\n",
    "    \n",
    "    J = e + (cal['s'] * f + cal['t']) // cal['u']\n",
    "    print(f\"J = {e} + ({cal['s']} * {f} + {cal['t']}) // {cal['u']} = {J}\")\n",
    "    \n",
    "    return J\n",
    "\n",
    "\n",
    "julian_day_your_algorithm(Y, M, D, calendar_type='Gregorian')   JD = 2299160.5"
   ]
  },
  {
   "cell_type": "code",
   "execution_count": null,
   "id": "01519815",
   "metadata": {},
   "outputs": [
    {
     "data": {
      "text/plain": [
       "2446965.5"
      ]
     },
     "execution_count": 92,
     "metadata": {},
     "output_type": "execute_result"
    }
   ],
   "source": [
    "Y = 1987  # Year\n",
    "M = 6    # Month (October)\n",
    "D = 19    # Day\n",
    "\n",
    "JD = 367 * Y - int((7 * int(Y + ((M + 9) / 12))) / 4) + int((275 * M) / 9) + D + 1721013.5\n",
    "\n",
    "JD\n"
   ]
  },
  {
   "cell_type": "code",
   "execution_count": null,
   "id": "929e1a67",
   "metadata": {},
   "outputs": [],
   "source": [
    "# Let Y == Year\n",
    "# Let M == Month Number // 1 is Jan, 2 is Feb, etc.\n",
    "# Let D == Day Number // where D is double (64-bit floating-point value)\n",
    "# If M == 1 OR M == 2 Then:\n",
    "    \n",
    "#     Y == Y - 1\n",
    "#     M == M + 12\n",
    "# // That is if the date is Jan or Feb then the date is the 13th or\n",
    "# // 14th month of the preceding year for calculation purposes.\n",
    "# If the date is on the Gregorian calendar (after 14 Oct 1582) then:\n",
    "# Let A = (int)(Y / 100)\n",
    "# Let B = 2 - A + (int)(A / 4)\n",
    "# If the date is on the Julian calendar (prior to 4 Oct 1582) then:\n",
    "# Let B = 0"
   ]
  },
  {
   "cell_type": "code",
   "execution_count": 5,
   "id": "a019c0b6",
   "metadata": {},
   "outputs": [
    {
     "name": "stdout",
     "output_type": "stream",
     "text": [
      "--- Test Cases ---\n",
      "1 Jan 2000 12:00:00 -> JD: 2451545.0\n",
      "15 Oct 1582 00:00:00 -> JD: 2299160.5\n",
      "4 Oct 1582 00:00:00 -> JD: 2299159.5\n"
     ]
    }
   ],
   "source": [
    "import math\n",
    "\n",
    "def calculate_julian_day(Y: int, M: int, D: float) -> float:\n",
    "    \"\"\"\n",
    "    Calculates the Julian Day (JD) for a given calendar date, \n",
    "    valid for positive and negative years (but not negative JD).\n",
    "    \n",
    "    Args:\n",
    "        Y (int): Year.\n",
    "        M (int): Month number (1=Jan, 12=Dec).\n",
    "        D (float): Day of the month (with decimals for time).\n",
    "        \n",
    "    Returns:\n",
    "        float: The calculated Julian Day.\n",
    "    \"\"\"\n",
    "    \n",
    "    # 1. Adjust Y and M for January and February\n",
    "    # (M=1 or M=2 become month 13 or 14 of the preceding year)\n",
    "    if M <= 2:\n",
    "        Y = Y - 1\n",
    "        M = M + 12\n",
    "    \n",
    "    # 2. Determine the value of B based on the calendar\n",
    "    \n",
    "    # The transition from Julian to Gregorian occurred after 4 Oct 1582.\n",
    "    # The day after 4 Oct 1582 was 15 Oct 1582 (10 days were skipped).\n",
    "    # We must check the date against the transition point: Y=1582, M=10, D>=15.\n",
    "    \n",
    "    # Check for the Gregorian calendar (after 14 Oct 1582)\n",
    "    # The condition is: Y > 1582, OR (Y == 1582 AND M > 10), OR (Y == 1582 AND M == 10 AND D >= 15).\n",
    "\n",
    "    # A more direct date comparison:\n",
    "    # Gregorian starts on 15 October 1582.\n",
    "    is_gregorian = False\n",
    "    if Y > 1582:\n",
    "        is_gregorian = True\n",
    "    elif Y == 1582:\n",
    "        if M > 10:\n",
    "            is_gregorian = True\n",
    "        elif M == 10 and D >= 15:\n",
    "            is_gregorian = True\n",
    "            \n",
    "    # Calculate B\n",
    "    if is_gregorian:\n",
    "        # Gregorian Calendar calculation (after 14 Oct 1582)\n",
    "        A = math.floor(Y / 100)\n",
    "        B = 2 - A + math.floor(A / 4)\n",
    "    else:\n",
    "        # Julian Calendar calculation (prior to 15 Oct 1582)\n",
    "        B = 0\n",
    "        \n",
    "    # 3. Calculate the Julian Day (JD)\n",
    "    \n",
    "    # Formula (7.1):\n",
    "    # JD = INT(365.25(Y + 4716)) + INT(30.6001(M + 1)) + D + B - 1524.5\n",
    "    \n",
    "    term1 = math.floor(365.25 * (Y + 4716))\n",
    "    term2 = math.floor(30.6001 * (M + 1))\n",
    "    \n",
    "    JD = term1 + term2 + D + B - 1524.5\n",
    "    \n",
    "    return JD\n",
    "\n",
    "# --- Examples ---\n",
    "print(\"--- Test Cases ---\")\n",
    "\n",
    "# Gregorian Date: 1 January 2000, 12:00:00 (Noon)\n",
    "# Expected JD: 2451545.0\n",
    "Y_test1, M_test1, D_test1 = 2000, 1, 1.5 \n",
    "# M=1 -> Y=1999, M=13\n",
    "# is_gregorian=True -> A=19, B=2-19+4 = -13\n",
    "jd1 = calculate_julian_day(Y_test1, M_test1, D_test1)\n",
    "print(f\"1 Jan 2000 12:00:00 -> JD: {jd1}\")\n",
    "\n",
    "# Gregorian Date: 15 October 1582, 00:00:00 (First day of Gregorian)\n",
    "# Expected JD: 2299160.5\n",
    "Y_test2, M_test2, D_test2 = 1582, 10, 15.0 \n",
    "# M=10 -> No change (Y=1582, M=10)\n",
    "# is_gregorian=True -> A=15, B=2-15+3 = -10\n",
    "jd2 = calculate_julian_day(Y_test2, M_test2, D_test2)\n",
    "print(f\"15 Oct 1582 00:00:00 -> JD: {jd2}\")\n",
    "\n",
    "# Julian Date: 4 October 1582, 00:00:00 (Last day of Julian)\n",
    "# Expected JD: 2299150.5\n",
    "Y_test3, M_test3, D_test3 = 1582, 10, 4.0 \n",
    "# M=10 -> No change (Y=1582, M=10)\n",
    "# is_gregorian=False -> B=0\n",
    "jd3 = calculate_julian_day(Y_test3, M_test3, D_test3)\n",
    "print(f\"4 Oct 1582 00:00:00 -> JD: {jd3}\")"
   ]
  },
  {
   "cell_type": "code",
   "execution_count": 19,
   "id": "15d523ab",
   "metadata": {},
   "outputs": [
    {
     "name": "stdout",
     "output_type": "stream",
     "text": [
      "1 Jan 2000 12:00:00 -> JD: 0.0\n"
     ]
    }
   ],
   "source": [
    "# Gregorian Date: 1 January 2000, 12:00:00 (Noon)\n",
    "# Expected JD: 2451545.0\n",
    "Y_test1, M_test1, D_test1 = -4712, 1, 1.5\n",
    "# M=1 -> Y=1999, M=13\n",
    "# is_gregorian=True -> A=19, B=2-19+4 = -13\n",
    "jd1 = calculate_julian_day(Y_test1, M_test1, D_test1)\n",
    "print(f\"1 Jan 2000 12:00:00 -> JD: {jd1}\")"
   ]
  },
  {
   "cell_type": "code",
   "execution_count": 22,
   "id": "69326d53",
   "metadata": {},
   "outputs": [
    {
     "name": "stdout",
     "output_type": "stream",
     "text": [
      "--- Testing Flexible Parser ---\n",
      "Input: '2000-01-01 12:00' -> D: 1.5\n",
      "Input: '2024-03-10 01:30:45.75' -> D: 10.063029513888889\n",
      "Input: '1985-06-20 23:59:00' -> D: 20.999305555555555\n"
     ]
    }
   ],
   "source": [
    "import datetime\n",
    "\n",
    "def parse_date_to_YMD_flexible(date_string: str) -> tuple[int, int, float]:\n",
    "    \"\"\"\n",
    "    Parses a date string in \"YYYY-MM-DD HH:MM\" or \"YYYY-MM-DD HH:MM:SS.SS\" format \n",
    "    and returns (Y, M, D) where D includes the time as a decimal fraction of the day.\n",
    "    \n",
    "    Args:\n",
    "        date_string (str): The date and time string.\n",
    "        \n",
    "    Returns:\n",
    "        tuple[int, int, float]: (Year, Month, Day with decimal time).\n",
    "    \"\"\"\n",
    "    \n",
    "    # 1. Split the date and time parts\n",
    "    try:\n",
    "        date_part, time_part = date_string.split(' ')\n",
    "    except ValueError:\n",
    "        raise ValueError(f\"Invalid format. Must contain a space between date and time: {date_string}\")\n",
    "    \n",
    "    # 2. Extract Y, M, and the base day\n",
    "    try:\n",
    "        Y, M, day = map(int, date_part.split('-'))\n",
    "    except ValueError:\n",
    "        raise ValueError(f\"Invalid date format: {date_part}. Expected YYYY-MM-DD.\")\n",
    "    \n",
    "    # 3. Parse the time part and calculate total seconds\n",
    "    \n",
    "    # Split HH:MM[:SS.SS]\n",
    "    time_components = time_part.split(':')\n",
    "    H = int(time_components[0])\n",
    "    Min = int(time_components[1]) # Minutes must be an integer part\n",
    "    \n",
    "    total_seconds = float(H * 3600) + float(Min * 60)\n",
    "    \n",
    "    if len(time_components) == 3:\n",
    "        # Format is HH:MM:SS.SS\n",
    "        # The last component can be a float (e.g., 55.45)\n",
    "        Sec_decimal = float(time_components[2])\n",
    "        total_seconds += Sec_decimal\n",
    "        \n",
    "    elif len(time_components) != 2:\n",
    "        # Neither HH:MM nor HH:MM:SS.SS\n",
    "        raise ValueError(f\"Invalid time format: {time_part}. Expected HH:MM or HH:MM:SS.SS.\")\n",
    "\n",
    "    # 4. Calculate the fraction of the day\n",
    "    seconds_in_day = 86400.0 # 24 * 60 * 60\n",
    "    decimal_fraction_of_day = total_seconds / seconds_in_day\n",
    "    \n",
    "    # 5. Combine base day and decimal fraction\n",
    "    D = float(day) + decimal_fraction_of_day\n",
    "    \n",
    "    return (Y, M, D)\n",
    "\n",
    "# ----------------- Examples -----------------\n",
    "print(\"--- Testing Flexible Parser ---\")\n",
    "\n",
    "# Format 1: HH:MM (Noon on 2000-01-01)\n",
    "date_str_1 = \"2000-01-01 12:00\"\n",
    "Y1, M1, D1 = parse_date_to_YMD_flexible(date_str_1)\n",
    "print(f\"Input: '{date_str_1}' -> D: {D1}\") # Expected: 1.5\n",
    "\n",
    "# Format 2: HH:MM:SS.SS (A specific time with decimal seconds)\n",
    "date_str_2 = \"2024-03-10 01:30:45.75\" # 1h 30m 45.75s\n",
    "Y2, M2, D2 = parse_date_to_YMD_flexible(date_str_2)\n",
    "print(f\"Input: '{date_str_2}' -> D: {D2}\") \n",
    "# Expected calculation: (3600 + 1800 + 45.75) / 86400 = 0.063261574...\n",
    "# Expected Output: 10.063261574...\n",
    "\n",
    "# Format 3: HH:MM:SS (Integer seconds)\n",
    "date_str_3 = \"1985-06-20 23:59:00\"\n",
    "Y3, M3, D3 = parse_date_to_YMD_flexible(date_str_3)\n",
    "print(f\"Input: '{date_str_3}' -> D: {D3}\") \n",
    "# Expected calculation: (86340) / 86400 = 0.999305...\n",
    "# Expected Output: 20.999305..."
   ]
  },
  {
   "cell_type": "code",
   "execution_count": 31,
   "id": "1d3dbec6",
   "metadata": {},
   "outputs": [
    {
     "name": "stdout",
     "output_type": "stream",
     "text": [
      "1 Jan 2000 12:00:00 -> JD: 2446896.30625\n"
     ]
    }
   ],
   "source": [
    "# Format 1: HH:MM (Noon on 2000-01-01)\n",
    "date_str_1 = \"1987-04-10 19:21\"\n",
    "Y1, M1, D1 = parse_date_to_YMD_flexible(date_str_1)\n",
    "\n",
    "# Gregorian Date: 1 January 2000, 12:00:00 (Noon)\n",
    "# Expected JD: 2451545.0\n",
    "# Y_test1, M_test1, D_test1 = -4712, 1, 1.5\n",
    "# M=1 -> Y=1999, M=13\n",
    "# is_gregorian=True -> A=19, B=2-19+4 = -13\n",
    "jd1 = calculate_julian_day(Y1, M1, D1)\n",
    "print(f\"1 Jan 2000 12:00:00 -> JD: {jd1}\")\n",
    "\n"
   ]
  },
  {
   "cell_type": "code",
   "execution_count": 32,
   "id": "384fe3f6",
   "metadata": {},
   "outputs": [
    {
     "data": {
      "text/plain": [
       "-1677831.2621267552"
      ]
     },
     "execution_count": 32,
     "metadata": {},
     "output_type": "execute_result"
    }
   ],
   "source": [
    "JD = jd1\n",
    "\n",
    "T = (JD - 2451545.0) / 36525  \n",
    "\n",
    "GMST = 280.46061837 + 360.98564736629*(JD - 2451545.0) + (0.000387933*T**2) - ((T**3)/3871000)\n",
    "\n",
    "GMST\n"
   ]
  },
  {
   "cell_type": "code",
   "execution_count": 33,
   "id": "03ed531c",
   "metadata": {},
   "outputs": [
    {
     "name": "stdout",
     "output_type": "stream",
     "text": [
      "Decimal Degrees: -1677831.2621267552\n",
      "Sidereal Time (H:M:S): 8h 34m 57.0896s\n"
     ]
    }
   ],
   "source": [
    "import math\n",
    "\n",
    "def degrees_to_hms(degrees: float) -> tuple[int, int, float]:\n",
    "    \"\"\"\n",
    "    Converts a decimal degree value (like the result of equation 11.4) \n",
    "    into Hours, Minutes, and Seconds (H:M:S).\n",
    "    \n",
    "    Args:\n",
    "        degrees (float): The angle in decimal degrees.\n",
    "        \n",
    "    Returns:\n",
    "        tuple[int, int, float]: (Hours, Minutes, Seconds).\n",
    "    \"\"\"\n",
    "    \n",
    "    # 1. Normalize degrees to the range [0, 360)\n",
    "    # The modulo operator (%) handles this, even for negative angles.\n",
    "    degrees = degrees % 360.0\n",
    "    \n",
    "    if degrees < 0:\n",
    "        degrees += 360.0\n",
    "        \n",
    "    # 2. Convert degrees to decimal hours by dividing by 15\n",
    "    decimal_hours = degrees / 15.0\n",
    "    \n",
    "    # 3. Extract Hours\n",
    "    Hours = math.floor(decimal_hours)\n",
    "    \n",
    "    # 4. Extract Minutes\n",
    "    # Get the fractional part of hours and multiply by 60\n",
    "    decimal_minutes = (decimal_hours - Hours) * 60.0\n",
    "    Minutes = math.floor(decimal_minutes)\n",
    "    \n",
    "    # 5. Extract Seconds\n",
    "    # Get the fractional part of minutes and multiply by 60\n",
    "    Seconds = (decimal_minutes - Minutes) * 60.0\n",
    "    \n",
    "    # Ensure seconds is float for decimal precision\n",
    "    return (int(Hours), int(Minutes), Seconds)\n",
    "\n",
    "# --- Example ---\n",
    "\n",
    "# Let's assume the result of your equation (11.4) calculation is this:\n",
    "result_degrees = GMST  # An example value from external reference\n",
    "\n",
    "Hours, Minutes, Seconds = degrees_to_hms(result_degrees)\n",
    "\n",
    "print(f\"Decimal Degrees: {result_degrees}\")\n",
    "print(f\"Sidereal Time (H:M:S): {Hours}h {Minutes}m {Seconds:.4f}s\")\n",
    "# Expected Output: 11h 39m 5.0673s (or similar depending on precision)"
   ]
  }
 ],
 "metadata": {
  "kernelspec": {
   "display_name": "base",
   "language": "python",
   "name": "python3"
  },
  "language_info": {
   "codemirror_mode": {
    "name": "ipython",
    "version": 3
   },
   "file_extension": ".py",
   "mimetype": "text/x-python",
   "name": "python",
   "nbconvert_exporter": "python",
   "pygments_lexer": "ipython3",
   "version": "3.12.3"
  }
 },
 "nbformat": 4,
 "nbformat_minor": 5
}
