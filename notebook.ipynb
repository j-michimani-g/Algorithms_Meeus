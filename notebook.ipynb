{
 "cells": [
  {
   "cell_type": "code",
   "execution_count": 2,
   "id": "c52d5b85",
   "metadata": {},
   "outputs": [],
   "source": [
    "import math\n",
    "import numpy as np"
   ]
  },
  {
   "cell_type": "markdown",
   "id": "89f8d9be",
   "metadata": {},
   "source": [
    "### Right ascension \n",
    "Right ascension are generally expressed in hours, minutes and seconds of time ... remember that one hour corresponds to 15 degrees.\n",
    "\n",
    "Example 1.a - Calculate tan(α), where α = $9^{h}14^{m}55^{s}.8$ \n"
   ]
  },
  {
   "cell_type": "code",
   "execution_count": 25,
   "id": "fd620a2f",
   "metadata": {},
   "outputs": [
    {
     "name": "stdout",
     "output_type": "stream",
     "text": [
      "tan(α) = -0.877517\n"
     ]
    }
   ],
   "source": [
    "ra_hours = 9\n",
    "ra_minutes = 14\n",
    "ra_seconds = 55.8\n",
    "\n",
    "### PI value\n",
    "DPI = 3.141592653589793\n",
    "\n",
    "ra_hours_decimals = ra_hours + ra_minutes/60 + ra_seconds/3600 \n",
    "ra_degrees = ra_hours_decimals * 15\n",
    "ra_radians = ra_degrees * (DPI/180)    \n",
    "\n",
    "tan_ra = math.tan(ra_radians)\n",
    "\n",
    "print(f'tan(\\u03B1) = {tan_ra:.6f}')"
   ]
  },
  {
   "cell_type": "markdown",
   "id": "301b03b1",
   "metadata": {},
   "source": [
    "Table 3.2\n",
    "|  |  |  |\n",
    "| :------- | :------: | -------: |\n",
    "| November  | 7  | $y_{1}$ = 0.884226  |\n",
    "|   | 8  | $y_{2}$ = 0.877366  |\n",
    "|   | 9  | $y_{3}$ = 0.870531  |\n",
    "\n",
    "\n",
    "Let $n$ be the interpolating factor. That is, if the value $y$ of the function is required for the value of $x$ of the argument, we have $x - x_{2}$ in units of the tabular interval. The value $n$ is positive if $x > x_{2}$, that is for a value 'later' than $x_{2}$, or from $x_{2}$ towards the bottom of the table. If $x$ precedes $x_{2}$, then $n < 0$. \n",
    "\n",
    "If $y_{2}$ has been correctly chosen, then $n$ will be between -0.5 and +0.5, although the following formulae will also give correct results for all values of $n$ between -1 and +1.\n",
    "\n",
    "The interpolation formula is\n",
    "\n",
    "$\n",
    " y = y_{2} + \\frac{n}{2} (a + b + nc)\n",
    "$\n",
    "\n",
    "\n",
    "Example 3.a - From the table 3.2, calculate the distance of Mars to the Earth on 1992 November 8, at  $4^{h}21^{m}$ TD. \n",
    " "
   ]
  },
  {
   "cell_type": "code",
   "execution_count": 3,
   "id": "80bc910c",
   "metadata": {},
   "outputs": [
    {
     "name": "stdout",
     "output_type": "stream",
     "text": [
      "-0.006859999999999977\n",
      "-0.0068349999999999245\n",
      "2.5000000000052758e-05\n"
     ]
    },
    {
     "data": {
      "text/plain": [
       "0.8761253012695313"
      ]
     },
     "execution_count": 3,
     "metadata": {},
     "output_type": "execute_result"
    }
   ],
   "source": [
    "y1 = 0.884226\n",
    "y2 = 0.877366\n",
    "y3 = 0.870531\n",
    "\n",
    "a = y2 - y1 \n",
    "b = y3 - y2\n",
    "\n",
    "c = b - a \n",
    "\n",
    "\n",
    "print(a)\n",
    "print(b)\n",
    "print(c)\n",
    "\n",
    "n = (4 + 21/60)/24\n",
    "\n",
    "y = y2 + (n/2) * (a + b + n*c) \n",
    "y"
   ]
  },
  {
   "cell_type": "code",
   "execution_count": null,
   "id": "a89713eb",
   "metadata": {},
   "outputs": [],
   "source": []
  },
  {
   "cell_type": "code",
   "execution_count": 24,
   "id": "b8adf124",
   "metadata": {},
   "outputs": [
    {
     "name": "stdout",
     "output_type": "stream",
     "text": [
      "tan(α) = -0.877516945\n"
     ]
    }
   ],
   "source": [
    "from sympy import pi, sin, tan\n",
    "\n",
    "# >>> sin(pi/2)\n",
    "# 1\n",
    "\n",
    "# >>> sin(pi/4)\n",
    "# sqrt(2)/2\n",
    "\n",
    "# >>> sin(pi/4).evalf()\n",
    "# 0.707106781186548\n",
    "\n",
    "\n",
    "\n",
    "print(f'tan(\\u03B1) = {tan(ra_radians).evalf():.9f}')"
   ]
  },
  {
   "cell_type": "markdown",
   "id": "61739951",
   "metadata": {},
   "source": [
    "Example 10.a Calculate the p sin theta and p cos theta for the Palomar observatory, for which \n",
    "theta = +33"
   ]
  },
  {
   "cell_type": "code",
   "execution_count": null,
   "id": "e03b40bb",
   "metadata": {},
   "outputs": [],
   "source": []
  }
 ],
 "metadata": {
  "kernelspec": {
   "display_name": "base",
   "language": "python",
   "name": "python3"
  },
  "language_info": {
   "codemirror_mode": {
    "name": "ipython",
    "version": 3
   },
   "file_extension": ".py",
   "mimetype": "text/x-python",
   "name": "python",
   "nbconvert_exporter": "python",
   "pygments_lexer": "ipython3",
   "version": "3.12.3"
  }
 },
 "nbformat": 4,
 "nbformat_minor": 5
}
