{
 "cells": [
  {
   "cell_type": "code",
   "execution_count": 1,
   "id": "416bd89f",
   "metadata": {},
   "outputs": [],
   "source": [
    "import math\n",
    "import numpy as np\n",
    "import algorithms_functions as algorithms"
   ]
  },
  {
   "cell_type": "markdown",
   "id": "44f7f370",
   "metadata": {},
   "source": [
    "### Right ascension \n",
    "Right ascension are generally expressed in hours, minutes and seconds of time. If the trigonometric function of a right ascension must be calculated, it is necessary to convert that value to degrees (and then to radians if necessary). Remember that one hour corresponds to 15 degrees.\n",
    "\n",
    "Example 1.a - Calculate tan(α), where α = $9^{h}14^{m}55^{s}.8$ \n"
   ]
  },
  {
   "cell_type": "code",
   "execution_count": 2,
   "id": "0026f287",
   "metadata": {},
   "outputs": [
    {
     "name": "stdout",
     "output_type": "stream",
     "text": [
      "tan(α) = -0.877517\n"
     ]
    }
   ],
   "source": [
    "ra_string = \"09 14 55.8\"\n",
    "### Step 1. Convert ra to radians\n",
    "ra_hours, ra_minutes, ra_seconds = algorithms.parse_ra_string(ra_string)\n",
    "ra_decimal_hours, ra_degrees, ra_radians = algorithms.convert_ra_components(ra_hours, ra_minutes, ra_seconds)\n",
    "### Step 2. Calculate tan(ra)\n",
    "tan_ra = math.tan(ra_radians)\n",
    "\n",
    "print(f'tan(\\u03B1) = {tan_ra:.6f}') "
   ]
  }
 ],
 "metadata": {
  "kernelspec": {
   "display_name": "base",
   "language": "python",
   "name": "python3"
  },
  "language_info": {
   "codemirror_mode": {
    "name": "ipython",
    "version": 3
   },
   "file_extension": ".py",
   "mimetype": "text/x-python",
   "name": "python",
   "nbconvert_exporter": "python",
   "pygments_lexer": "ipython3",
   "version": "3.12.3"
  }
 },
 "nbformat": 4,
 "nbformat_minor": 5
}
