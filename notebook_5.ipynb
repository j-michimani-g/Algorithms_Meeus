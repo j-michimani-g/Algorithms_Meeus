{
 "cells": [
  {
   "cell_type": "code",
   "execution_count": 37,
   "id": "4e314df3",
   "metadata": {},
   "outputs": [],
   "source": [
    "from ipywidgets import widgets\n",
    "from IPython.display import display\n",
    "from datetime import datetime\n",
    "import maped\n",
    "import pandas as pd\n",
    "import datetime\n"
   ]
  },
  {
   "cell_type": "code",
   "execution_count": 20,
   "id": "f7f92ba2",
   "metadata": {},
   "outputs": [
    {
     "data": {
      "application/vnd.jupyter.widget-view+json": {
       "model_id": "1db83e0b801f4610a9344b590033e287",
       "version_major": 2,
       "version_minor": 0
      },
      "text/plain": [
       "DatePicker(value=datetime.date(2025, 2, 27), description='Select Date:')"
      ]
     },
     "metadata": {},
     "output_type": "display_data"
    }
   ],
   "source": [
    "import ipywidgets as widgets\n",
    "from IPython.display import display\n",
    "import datetime\n",
    "\n",
    "# --- Create the DatePicker widget ---\n",
    "date_picker = widgets.DatePicker(\n",
    "    description='Select Date:',\n",
    "    disabled=False,\n",
    "    value=datetime.date(2025, 2, 27) # Example initial date\n",
    ")\n",
    "\n",
    "# --- Display the DatePicker ---\n",
    "display(date_picker)"
   ]
  },
  {
   "cell_type": "code",
   "execution_count": 38,
   "id": "c913790f",
   "metadata": {},
   "outputs": [
    {
     "data": {
      "text/plain": [
       "'2025-02-27'"
      ]
     },
     "execution_count": 38,
     "metadata": {},
     "output_type": "execute_result"
    }
   ],
   "source": [
    "\n",
    "\n",
    "date_picker.value.strftime(\"%Y-%m-%d\")"
   ]
  },
  {
   "cell_type": "code",
   "execution_count": 43,
   "id": "cce9e430",
   "metadata": {},
   "outputs": [
    {
     "data": {
      "application/vnd.jupyter.widget-view+json": {
       "model_id": "33b1e65af2d743e781041afe927574f3",
       "version_major": 2,
       "version_minor": 0
      },
      "text/plain": [
       "Dropdown(description='Observatory code:', index=2500, options=('000', '001', '002', '003', '004', '005', '006'…"
      ]
     },
     "metadata": {},
     "output_type": "display_data"
    }
   ],
   "source": [
    "observatory_code_input = widgets.Dropdown(\n",
    "    options=pd.read_csv('C:/Users/michi/OneDrive/Escritorio/phase_curves_project/MPC_observatory_codes/MPC_OBS_CODES.csv').Code.to_list(),\n",
    "    value='Y28',\n",
    "    description='Observatory code:',\n",
    "    style={'description_width': 'initial'}\n",
    ")\n",
    "display(observatory_code_input)\n",
    "\n"
   ]
  },
  {
   "cell_type": "code",
   "execution_count": null,
   "id": "3292ab21",
   "metadata": {},
   "outputs": [
    {
     "data": {
      "application/vnd.jupyter.widget-view+json": {
       "model_id": "4890b7039a5c4e218fc08a3169f470bb",
       "version_major": 2,
       "version_minor": 0
      },
      "text/plain": [
       "Dropdown(description='Observatory code:', index=2500, options=('000', '001', '002', '003', '004', '005', '006'…"
      ]
     },
     "metadata": {},
     "output_type": "display_data"
    }
   ],
   "source": [
    "\n",
    "\n",
    "\n"
   ]
  },
  {
   "cell_type": "code",
   "execution_count": 35,
   "id": "e3d98789",
   "metadata": {},
   "outputs": [
    {
     "name": "stdout",
     "output_type": "stream",
     "text": [
      "Observatory I33: -30.2379°N, -70.7337°E, 2776.132m\n",
      "UTC Offset: -3.0 hours\n"
     ]
    }
   ],
   "source": [
    "import logi\n",
    "MPC_CODES_FILE = 'C:/Users/michi/OneDrive/Escritorio/phase_curves_project/MPC_observatory_codes/MPC_OBS_CODES.csv'\n",
    "site_longitude_360, site_latitude, site_elevation_m = logi.get_observatory_coordinates(MPC_CODES_FILE, observatory_code_input.value)\n",
    "# Convert 0-360 E to -180 to +180 E\n",
    "site_longitude = site_longitude_360\n",
    "if site_longitude > 180.0:\n",
    "    site_longitude = site_longitude - 360.0 \n",
    "\n",
    "print(f\"Observatory {observatory_code_input.value}: {site_latitude:.4f}°N, {site_longitude:.4f}°E, {site_elevation_m}m\")\n",
    "\n",
    "### utc offset from coordinates\n",
    "utc_offset, tz_name = logi.get_utc_offset_from_coords(site_latitude, site_longitude)\n",
    "print(f\"UTC Offset: {utc_offset:+.1f} hours\")"
   ]
  },
  {
   "cell_type": "code",
   "execution_count": 5,
   "id": "d10b3731",
   "metadata": {},
   "outputs": [
    {
     "data": {
      "application/vnd.jupyter.widget-view+json": {
       "model_id": "6c94ced32d0b45679c83b7a5a9521c49",
       "version_major": 2,
       "version_minor": 0
      },
      "text/plain": [
       "Text(value='Hello World!', disabled=True)"
      ]
     },
     "metadata": {},
     "output_type": "display_data"
    }
   ],
   "source": [
    "widgets.Text(value='Hello World!', disabled=True)"
   ]
  },
  {
   "cell_type": "code",
   "execution_count": 39,
   "id": "fb9d46e9",
   "metadata": {},
   "outputs": [
    {
     "data": {
      "application/vnd.jupyter.widget-view+json": {
       "model_id": "d6bb3912b6cd4b29963a366455b29df0",
       "version_major": 2,
       "version_minor": 0
      },
      "text/plain": [
       "Text(value='14 09 46.7 +01 59 47', description='Coordinates:', placeholder='HH MM SS.SS ±DD MM SS.S', style=De…"
      ]
     },
     "metadata": {},
     "output_type": "display_data"
    }
   ],
   "source": [
    "# 2. Create the Text Input Widget\n",
    "coordinates_input = widgets.Text(\n",
    "    value='14 09 46.7 +01 59 47', # Initial value\n",
    "    placeholder= \"HH MM SS.SS ±DD MM SS.S\",\n",
    "    description='Coordinates:',\n",
    "    style={'description_width': 'initial'}\n",
    ")\n",
    "\n",
    "display(coordinates_input)"
   ]
  },
  {
   "cell_type": "code",
   "execution_count": 40,
   "id": "e28dd388",
   "metadata": {},
   "outputs": [
    {
     "data": {
      "text/plain": [
       "'14 09 46.7 +01 59 47'"
      ]
     },
     "execution_count": 40,
     "metadata": {},
     "output_type": "execute_result"
    }
   ],
   "source": [
    "coordinates_input.value"
   ]
  },
  {
   "cell_type": "code",
   "execution_count": 8,
   "id": "cca8936c",
   "metadata": {},
   "outputs": [
    {
     "data": {
      "application/vnd.jupyter.widget-view+json": {
       "model_id": "2d7d3f9958694fc5af5791478264938d",
       "version_major": 2,
       "version_minor": 0
      },
      "text/plain": [
       "Dropdown(description='Number:', index=1, options=(('One', 1), ('Two', 2), ('Three', 3)), value=2)"
      ]
     },
     "metadata": {},
     "output_type": "display_data"
    }
   ],
   "source": [
    "widgets.Dropdown(\n",
    "    options=[('One', 1), ('Two', 2), ('Three', 3)],\n",
    "    value=2,\n",
    "    description='Number:',\n",
    ")"
   ]
  },
  {
   "cell_type": "code",
   "execution_count": 11,
   "id": "e66111b8",
   "metadata": {},
   "outputs": [
    {
     "data": {
      "application/vnd.jupyter.widget-view+json": {
       "model_id": "98cfd74b081a4c39b406cf344f28ef50",
       "version_major": 2,
       "version_minor": 0
      },
      "text/plain": [
       "Dropdown(description='day:', options=('1', '2', '3', '4', '5', '6', '7', '8', '9', '10', '11', '12', '13', '14…"
      ]
     },
     "metadata": {},
     "output_type": "display_data"
    }
   ],
   "source": [
    "widgets.Dropdown(\n",
    "    options=['1', '2', '3','4','5','6','7','8','9','10','11','12','13','14','15','16','17','18','19','20','21','22','23','24','25','26','27','28','29','30','31'],\n",
    "    value='1',\n",
    "    description='day:',\n",
    "    disabled=False,\n",
    ")"
   ]
  },
  {
   "cell_type": "code",
   "execution_count": 12,
   "id": "3e57acf1",
   "metadata": {},
   "outputs": [
    {
     "data": {
      "application/vnd.jupyter.widget-view+json": {
       "model_id": "34f246292bc24539820a5cd5c9f4ef09",
       "version_major": 2,
       "version_minor": 0
      },
      "text/plain": [
       "Dropdown(description='month:', index=1, options=(('January', 1), ('February', 2), ('March', 3), ('April', 4), …"
      ]
     },
     "metadata": {},
     "output_type": "display_data"
    }
   ],
   "source": [
    "widgets.Dropdown(\n",
    "    options=[('January', 1), ('February', 2), ('March', 3),\n",
    "             ('April', 4), ('May', 5), ('June', 6),\n",
    "             ('July', 7), ('August', 8), ('September', 9),\n",
    "             ('October', 10), ('November', 11), ('December', 12)],\n",
    "    value=2,\n",
    "    description='month:',\n",
    ")"
   ]
  },
  {
   "cell_type": "code",
   "execution_count": 13,
   "id": "58e3f4db",
   "metadata": {},
   "outputs": [
    {
     "data": {
      "application/vnd.jupyter.widget-view+json": {
       "model_id": "f9efb487d28e49728020809f07be6295",
       "version_major": 2,
       "version_minor": 0
      },
      "text/plain": [
       "Dropdown(description='year:', index=40, options=('1985', '1986', '1987', '1988', '1989', '1990', '1991', '1992…"
      ]
     },
     "metadata": {},
     "output_type": "display_data"
    }
   ],
   "source": [
    "widgets.Dropdown(\n",
    "    options=[str(1985+i) for i in range(2031-1985)],\n",
    "    value='2025',\n",
    "    description='year:',\n",
    "    disabled=False,\n",
    ")    "
   ]
  },
  {
   "cell_type": "code",
   "execution_count": 14,
   "id": "b38de2ca",
   "metadata": {},
   "outputs": [
    {
     "data": {
      "application/vnd.jupyter.widget-view+json": {
       "model_id": "b6bd7fe77ee640c3bcb2bf4c1ed04aea",
       "version_major": 2,
       "version_minor": 0
      },
      "text/plain": [
       "HBox(children=(Dropdown(description='Day:', options=('1', '2', '3', '4', '5', '6', '7', '8', '9', '10', '11', …"
      ]
     },
     "metadata": {},
     "output_type": "display_data"
    }
   ],
   "source": [
    "import ipywidgets as widgets\n",
    "from IPython.display import display\n",
    "\n",
    "# --- 1. Day Dropdown ---\n",
    "day_options = [str(i) for i in range(1, 32)]\n",
    "day_dropdown = widgets.Dropdown(\n",
    "    options=day_options,\n",
    "    value='1',\n",
    "    description='Day:',\n",
    "    disabled=False,\n",
    ")\n",
    "\n",
    "# --- 2. Month Dropdown ---\n",
    "month_options = [\n",
    "    ('January', 1), ('February', 2), ('March', 3),\n",
    "    ('April', 4), ('May', 5), ('June', 6),\n",
    "    ('July', 7), ('August', 8), ('September', 9),\n",
    "    ('October', 10), ('November', 11), ('December', 12)\n",
    "]\n",
    "month_dropdown = widgets.Dropdown(\n",
    "    options=month_options,\n",
    "    value=2,\n",
    "    description='Month:',\n",
    ")\n",
    "\n",
    "# --- 3. Year Dropdown ---\n",
    "year_options = [str(i) for i in range(1985, 2031)]\n",
    "year_dropdown = widgets.Dropdown(\n",
    "    options=year_options,\n",
    "    value='2025',\n",
    "    description='Year:',\n",
    "    disabled=False,\n",
    ")\n",
    "\n",
    "# --- 4. Combine with HBox ---\n",
    "date_selector = widgets.HBox([day_dropdown, month_dropdown, year_dropdown])\n",
    "\n",
    "# --- 5. Display the combined widget ---\n",
    "display(date_selector)"
   ]
  },
  {
   "cell_type": "code",
   "execution_count": 18,
   "id": "3c4c6420",
   "metadata": {},
   "outputs": [
    {
     "data": {
      "application/vnd.jupyter.widget-view+json": {
       "model_id": "ad6ea72338814f7ca0c8cd3e551ed99b",
       "version_major": 2,
       "version_minor": 0
      },
      "text/plain": [
       "DatePicker(value=datetime.date(2025, 2, 27), description='Select Date:')"
      ]
     },
     "metadata": {},
     "output_type": "display_data"
    }
   ],
   "source": [
    "import ipywidgets as widgets\n",
    "from IPython.display import display\n",
    "import datetime\n",
    "\n",
    "# --- Create the DatePicker widget ---\n",
    "date_picker = widgets.DatePicker(\n",
    "    description='Select Date:',\n",
    "    disabled=False,\n",
    "    value=datetime.date(2025, 2, 27) # Example initial date\n",
    ")\n",
    "\n",
    "# --- Display the DatePicker ---\n",
    "display(date_picker)"
   ]
  },
  {
   "cell_type": "code",
   "execution_count": 19,
   "id": "ebc564e4",
   "metadata": {},
   "outputs": [
    {
     "data": {
      "text/plain": [
       "datetime.date(2025, 2, 27)"
      ]
     },
     "execution_count": 19,
     "metadata": {},
     "output_type": "execute_result"
    }
   ],
   "source": [
    "date_picker.value"
   ]
  },
  {
   "cell_type": "code",
   "execution_count": 8,
   "id": "019d56f2",
   "metadata": {},
   "outputs": [
    {
     "data": {
      "application/vnd.jupyter.widget-view+json": {
       "model_id": "fb2efc3b41dc4b7e97b61984243273a1",
       "version_major": 2,
       "version_minor": 0
      },
      "text/plain": [
       "interactive(children=(Text(value='2025-10-06 13:30:45.123', description='Enter UTC Time:', placeholder='YYYY-M…"
      ]
     },
     "metadata": {},
     "output_type": "display_data"
    },
    {
     "data": {
      "application/vnd.jupyter.widget-view+json": {
       "model_id": "db18761eb3b4416181a4792c589b7295",
       "version_major": 2,
       "version_minor": 0
      },
      "text/plain": [
       "Output()"
      ]
     },
     "metadata": {},
     "output_type": "display_data"
    }
   ],
   "source": [
    "\n",
    "# --------------------------------------------------------------------------\n",
    "# --- Widget Implementation ---\n",
    "# --------------------------------------------------------------------------\n",
    "\n",
    "# 1. Define the main function that handles widget input\n",
    "def calculate_jd_with_widget(date_string: str):\n",
    "    \"\"\"\n",
    "    Processes the date string from the widget, calls the parser,\n",
    "    calculates Julian Date, and prints the result.\n",
    "    \"\"\"\n",
    "    # Clear previous output\n",
    "    output_area.clear_output(wait=True)\n",
    "    \n",
    "    with output_area:\n",
    "        print(f\"Input String: {date_string}\")\n",
    "        print(\"-\" * 30)\n",
    "        \n",
    "        try:\n",
    "            # Call your flexible parser\n",
    "            Y, M, D_decimal = maped.parse_date_to_YMD_flexible(date_string)\n",
    "            \n",
    "            # Print parsed components\n",
    "            print(f\"Parsed Y, M, D(decimal): ({Y}, {M}, {D_decimal:.8f})\")\n",
    "            \n",
    "            # Call the Julian Date function\n",
    "            julian_date = maped.calculate_julian_day(Y, M, D_decimal)\n",
    "            \n",
    "            # Print final result\n",
    "            print(\"-\" * 30)\n",
    "            print(f\"✨ Julian Date (JD): {julian_date:.8f}\")\n",
    "            \n",
    "        except ValueError as e:\n",
    "            # Handle parsing errors and display them\n",
    "            print(f\"❌ ERROR: {e}\")\n",
    "        except Exception as e:\n",
    "            # Handle any other unexpected errors\n",
    "            print(f\"🛑 UNEXPECTED ERROR: {e}\")\n",
    "\n",
    "\n",
    "# 2. Create the Text Input Widget\n",
    "date_time_input = widgets.Text(\n",
    "    value='2025-10-06 13:30:45.123', # Initial value\n",
    "    placeholder='YYYY-MM-DD HH:MM:SS.SS',\n",
    "    description='Enter UTC Time:',\n",
    "    style={'description_width': 'initial'}\n",
    ")\n",
    "\n",
    "# 3. Create an output area to display results\n",
    "output_area = widgets.Output()\n",
    "\n",
    "# 4. Create an interactive object linked to the input widget\n",
    "# We use the interactive function to automatically link the widget's value \n",
    "# to the function's argument.\n",
    "interactive_widget = widgets.interactive(\n",
    "    calculate_jd_with_widget, \n",
    "    date_string=date_time_input\n",
    ")\n",
    "\n",
    "# 5. Display the widget and the output area\n",
    "display(interactive_widget, output_area)"
   ]
  },
  {
   "cell_type": "code",
   "execution_count": 1,
   "id": "6a787df3",
   "metadata": {},
   "outputs": [],
   "source": [
    "from geopy.geocoders import Nominatim\n",
    "from datetime import datetime\n",
    "import pytz\n",
    "\n",
    "def get_utc_offset(lat, lon):\n",
    "    geolocator = Nominatim(user_agent=\"timezone_app\")\n",
    "    location = geolocator.reverse(f\"{lat}, {lon}\", language='en')\n",
    "    \n",
    "    # This gives you the location, but not directly the timezone\n",
    "    # You'd still need a timezone lookup\n",
    "    print(location.raw)\n",
    "\n",
    "# This approach has limitations without timezone data"
   ]
  },
  {
   "cell_type": "code",
   "execution_count": 1,
   "id": "461406cb",
   "metadata": {},
   "outputs": [
    {
     "name": "stdout",
     "output_type": "stream",
     "text": [
      "\n",
      "--- New York ---\n",
      "Coordinates: (40.7128, -74.006)\n",
      "UTC Offset: -4.0 hours\n",
      "Timezone: America/New_York\n",
      "Current time: 2025-10-06 13:33:58 EDT\n",
      "\n",
      "--- London ---\n",
      "Coordinates: (51.5074, -0.1278)\n",
      "UTC Offset: +1.0 hours\n",
      "Timezone: Europe/London\n",
      "Current time: 2025-10-06 18:33:58 BST\n",
      "\n",
      "--- São Paulo ---\n",
      "Coordinates: (-23.5505, -46.6333)\n",
      "UTC Offset: -3.0 hours\n",
      "Timezone: America/Sao_Paulo\n",
      "Current time: 2025-10-06 14:33:58 -03\n",
      "\n",
      "--- Tokyo ---\n",
      "Coordinates: (35.6762, 139.6503)\n",
      "UTC Offset: +9.0 hours\n",
      "Timezone: Asia/Tokyo\n",
      "Current time: 2025-10-07 02:33:58 JST\n",
      "\n",
      "--- Rio de Janeiro ---\n",
      "Coordinates: (-22.9068, -43.1729)\n",
      "UTC Offset: -3.0 hours\n",
      "Timezone: America/Sao_Paulo\n",
      "Current time: 2025-10-06 14:33:58 -03\n"
     ]
    }
   ],
   "source": [
    "from tzfpy import get_tz\n",
    "import pytz\n",
    "from datetime import datetime\n",
    "\n",
    "def get_utc_offset_from_coords(lat, lon):\n",
    "    \"\"\"\n",
    "    Get UTC offset from latitude and longitude using tzfpy\n",
    "    \n",
    "    Args:\n",
    "        lat: Latitude (float)\n",
    "        lon: Longitude (float)\n",
    "        \n",
    "    Returns:\n",
    "        tuple: (offset_hours, timezone_name) or (None, None) if failed\n",
    "    \"\"\"\n",
    "    try:\n",
    "        # Get timezone name from coordinates\n",
    "        tz_name = get_tz(lon, lat)  # Note: tzfpy uses (lon, lat) order\n",
    "        \n",
    "        if tz_name is None:\n",
    "            print(\"Could not find timezone for these coordinates\")\n",
    "            return None, None\n",
    "        \n",
    "        # Get the timezone object\n",
    "        tz = pytz.timezone(tz_name)\n",
    "        \n",
    "        # Get current UTC offset (including DST if applicable)\n",
    "        now = datetime.now(tz)\n",
    "        offset = now.utcoffset().total_seconds() / 3600\n",
    "        \n",
    "        return offset, tz_name\n",
    "        \n",
    "    except Exception as e:\n",
    "        print(f\"Error: {e}\")\n",
    "        return None, None\n",
    "\n",
    "\n",
    "# Example usage\n",
    "if __name__ == \"__main__\":\n",
    "    # Test with different coordinates\n",
    "    test_locations = [\n",
    "        (40.7128, -74.0060, \"New York\"),\n",
    "        (51.5074, -0.1278, \"London\"),\n",
    "        (-23.5505, -46.6333, \"São Paulo\"),\n",
    "        (35.6762, 139.6503, \"Tokyo\"),\n",
    "        (-22.9068, -43.1729, \"Rio de Janeiro\"),\n",
    "    ]\n",
    "    \n",
    "    for lat, lon, name in test_locations:\n",
    "        print(f\"\\n--- {name} ---\")\n",
    "        print(f\"Coordinates: ({lat}, {lon})\")\n",
    "        \n",
    "        offset, tz_name = get_utc_offset_from_coords(lat, lon)\n",
    "        \n",
    "        if offset is not None:\n",
    "            print(f\"UTC Offset: {offset:+.1f} hours\")\n",
    "            print(f\"Timezone: {tz_name}\")\n",
    "            \n",
    "            # Show current time in that timezone\n",
    "            tz = pytz.timezone(tz_name)\n",
    "            local_time = datetime.now(tz)\n",
    "            print(f\"Current time: {local_time.strftime('%Y-%m-%d %H:%M:%S %Z')}\")\n",
    "        else:\n",
    "            print(\"Could not determine UTC offset\")\n"
   ]
  },
  {
   "cell_type": "code",
   "execution_count": null,
   "id": "252211c1",
   "metadata": {},
   "outputs": [
    {
     "data": {
      "application/vnd.jupyter.widget-view+json": {
       "model_id": "311d91bee3004fb2a6e97fa6fd14347c",
       "version_major": 2,
       "version_minor": 0
      },
      "text/plain": [
       "Dropdown(description='Select Name:', options=('Alice', 'Bob', 'Charlie', 'David'), value='Alice')"
      ]
     },
     "metadata": {},
     "output_type": "display_data"
    }
   ],
   "source": [
    "import pandas as pd\n",
    "import ipywidgets as widgets\n",
    "from IPython.display import display\n",
    "\n",
    "# # Create a sample DataFrame\n",
    "# df = pd.read_csv('C:/Users/michi/OneDrive/Escritorio/phase_curves_project/MPC_observatory_codes/MPC_OBS_CODES.csv')\n",
    "\n",
    "# Create a sample DataFrame\n",
    "data = {\n",
    "    'Name': ['Alice', 'Bob', 'Charlie', 'David'],\n",
    "    'Age': [25, 30, 35, 40],\n",
    "    'City': ['New York', 'London', 'Paris', 'Tokyo']\n",
    "}\n",
    "df = pd.DataFrame(data)\n",
    "\n",
    "# Define a function to display the selected row\n",
    "def select_row_by_name(name):\n",
    "    selected_row = df[df['Name'] == name]\n",
    "    display(selected_row)\n",
    "\n",
    "# Create a Dropdown widget with options from the 'Name' column\n",
    "name_dropdown = widgets.Dropdown(\n",
    "    options=df['Name'].tolist(),\n",
    "    value=df['Name'].iloc[0],  # Set initial value\n",
    "    description='Select Name:'\n",
    ")\n",
    "\n",
    "# Link the dropdown to the function using interactive\n",
    "widgets.interactive(select_row_by_name, name=name_dropdown)\n",
    "\n",
    "# Display the dropdown widget\n",
    "display(name_dropdown)"
   ]
  }
 ],
 "metadata": {
  "kernelspec": {
   "display_name": "base",
   "language": "python",
   "name": "python3"
  },
  "language_info": {
   "codemirror_mode": {
    "name": "ipython",
    "version": 3
   },
   "file_extension": ".py",
   "mimetype": "text/x-python",
   "name": "python",
   "nbconvert_exporter": "python",
   "pygments_lexer": "ipython3",
   "version": "3.12.3"
  }
 },
 "nbformat": 4,
 "nbformat_minor": 5
}
